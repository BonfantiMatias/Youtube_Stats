{
 "cells": [
  {
   "cell_type": "code",
   "execution_count": 1,
   "id": "29d05de6-05ca-4905-b643-efee500bc69d",
   "metadata": {},
   "outputs": [],
   "source": [
    "#Importación de las bibliotecas necesarias.\n",
    "import pandas as pd\n",
    "import time\n",
    "import requests\n",
    "from bs4 import BeautifulSoup\n",
    "import json\n",
    "import random\n",
    "import time\n",
    "from datetime import datetime\n",
    "import datetime\n",
    "import os\n",
    "import numpy as np \n",
    "from millify import millify,prettify\n",
    "from tqdm import tqdm\n",
    "\n",
    "import cred"
   ]
  },
  {
   "cell_type": "code",
   "execution_count": 2,
   "id": "bae52b7a-efd5-44e7-aa25-c63acefa3ed0",
   "metadata": {},
   "outputs": [],
   "source": [
    "#Asignando la clave API a la variable DEVELOPER_KEY. Key api youtube de gcp\n",
    "DEVELOPER_KEY = cred.API_KEY"
   ]
  },
  {
   "cell_type": "code",
   "execution_count": 3,
   "id": "43a5ed41-11ce-47ee-8db1-267fe2d02f21",
   "metadata": {},
   "outputs": [],
   "source": [
    "#Asignando el valor de la url del canal de Mr.Beast a la variable url.\n",
    "url = \"https://www.youtube.com/channel/UCX6OQ3DkcsbYNE6H8uQQuVA\""
   ]
  },
  {
   "cell_type": "code",
   "execution_count": 4,
   "id": "798d55a3-d935-4c1c-8953-cb2a5faa3c64",
   "metadata": {},
   "outputs": [
    {
     "data": {
      "text/plain": [
       "{'kind': 'youtube#channelListResponse',\n",
       " 'etag': 'E27NYnoH08zvuDpxYbjQ0gImaC8',\n",
       " 'pageInfo': {'totalResults': 1, 'resultsPerPage': 5},\n",
       " 'items': [{'kind': 'youtube#channel',\n",
       "   'etag': 'oTXEfr-6hX5HA4HHS7XtJ3O-Wcc',\n",
       "   'id': 'UCX6OQ3DkcsbYNE6H8uQQuVA',\n",
       "   'statistics': {'viewCount': '21722224302',\n",
       "    'subscriberCount': '129000000',\n",
       "    'hiddenSubscriberCount': False,\n",
       "    'videoCount': '733'}}]}"
      ]
     },
     "execution_count": 4,
     "metadata": {},
     "output_type": "execute_result"
    }
   ],
   "source": [
    "#ID Canal Mr.Beast en youtube\n",
    "CHANNEL_ID = 'UCX6OQ3DkcsbYNE6H8uQQuVA'\n",
    "\n",
    "#Obtener las estadísticas del canal a partir del ID del canal.\n",
    "url_channel_stats = 'https://youtube.googleapis.com/youtube/v3/channels?part=statistics&id='+CHANNEL_ID+'&key='+DEVELOPER_KEY\n",
    "channel_stats = requests.get(url_channel_stats).json()\n",
    "channel_stats"
   ]
  },
  {
   "cell_type": "code",
   "execution_count": 5,
   "id": "1dd36d64-93f6-4603-ad11-709d847c7960",
   "metadata": {},
   "outputs": [
    {
     "data": {
      "text/plain": [
       "{'Create_at': '2023-01-24',\n",
       " 'Total_Views': 21722224302,\n",
       " 'Suscribers': 129000000,\n",
       " 'Video_count': 733}"
      ]
     },
     "execution_count": 5,
     "metadata": {},
     "output_type": "execute_result"
    }
   ],
   "source": [
    "#Obtener las estadísticas del canal.\n",
    "channel_stats = channel_stats['items'][0]['statistics']\n",
    "\n",
    "\n",
    "#Crear una variable de fecha que sea la fecha actual.\n",
    "date = pd.to_datetime('today').strftime('%Y-%m-%d')\n",
    "\n",
    "#Creación de un diccionario con los datos del canal.\n",
    "data_channel = {\n",
    "    'Create_at':date,\n",
    "    'Total_Views':int(float(channel_stats['viewCount'])),\n",
    "    'Suscribers':int(float(channel_stats['subscriberCount'])),\n",
    "    'Video_count':int(float(channel_stats['videoCount'])),\n",
    "}\n",
    "\n",
    "data_channel"
   ]
  },
  {
   "cell_type": "markdown",
   "id": "8426c60c-a5a5-4f52-892e-093e6dbd202a",
   "metadata": {},
   "source": [
    "# Funcion"
   ]
  },
  {
   "cell_type": "code",
   "execution_count": 6,
   "id": "c1a42254-fff0-404f-a1d4-7c2b0b85a350",
   "metadata": {},
   "outputs": [],
   "source": [
    "\n",
    "def get_stats(api_key,channel_id):\n",
    "    \n",
    "    url_channel_stats = 'https://youtube.googleapis.com/youtube/v3/channels?part=statistics&id='+channel_id+'&key='+api_key\n",
    "    channel_stats = requests.get(url_channel_stats).json()\n",
    "    \n",
    "    \n",
    "    channel_stats = channel_stats['items'][0]['statistics']\n",
    "    date = pd.to_datetime('today').strftime(\"%Y-%m-%d\")\n",
    "\n",
    "    data_channel = {\n",
    "\n",
    "        'Created_at':date,\n",
    "        'Total_Views':int(float(channel_stats['viewCount'])),\n",
    "        'Suscribers':int(float(channel_stats['subscriberCount'])),\n",
    "        'Video_count':int(float(channel_stats['videoCount'])),\n",
    "\n",
    "    }\n",
    "    \n",
    "    return data_channel"
   ]
  },
  {
   "cell_type": "code",
   "execution_count": 7,
   "id": "23cceda6-cfcc-4dc8-a602-391212306d26",
   "metadata": {},
   "outputs": [
    {
     "data": {
      "text/plain": [
       "{'Created_at': '2023-01-24',\n",
       " 'Total_Views': 21722224302,\n",
       " 'Suscribers': 129000000,\n",
       " 'Video_count': 733}"
      ]
     },
     "execution_count": 7,
     "metadata": {},
     "output_type": "execute_result"
    }
   ],
   "source": [
    "\n",
    "#Llamar a la función `get_stats` con los parámetros `DEVELOPER_KEY` y `CHANNEL_ID`\n",
    "get_stats(DEVELOPER_KEY,CHANNEL_ID)"
   ]
  },
  {
   "cell_type": "markdown",
   "id": "96416f17-07a8-48f7-9ef3-9669826ed68c",
   "metadata": {},
   "source": [
    "# Canales Analizados "
   ]
  },
  {
   "cell_type": "code",
   "execution_count": 8,
   "id": "2aadf37d-2689-4b62-8726-a45f0cad9a17",
   "metadata": {},
   "outputs": [],
   "source": [
    "#Creando una lista de los canales que queremos analizar\n",
    "channels_name  =  ['Ringa Tech','Código Máquina','PeladoNerd','Codigofacilito', 'midulive']\n",
    "\n",
    "#Una lista de los id de los canales.\n",
    "channels_id  =  ['UCm9QZ70KuIVShztZ7HmE4NQ','UCeyAuzke3347naesZQXi2zQ','UCrBzBOMcUVV8ryyAU_c6P5g','UCLXRGxAzeaLDGaOphqapzmg','UC3aj05GEEyzdOqYM5FLSFeg']"
   ]
  },
  {
   "cell_type": "code",
   "execution_count": null,
   "id": "7f7348e2-d40f-44e2-a380-b2648c49680f",
   "metadata": {},
   "outputs": [],
   "source": []
  },
  {
   "cell_type": "code",
   "execution_count": 14,
   "id": "972cb49d-4d82-4ea5-a4fc-40ccb7794129",
   "metadata": {},
   "outputs": [],
   "source": [
    "#Creando un diccionario con las claves 'Channel_name' y 'Channel_id' y los valores son las listas channel_name y channels_id.\n",
    "channels = {\n",
    "    'Channel_name':channels_name,\n",
    "    'Channel_id':channels_id}\n",
    "\n",
    "\n",
    "#Creamos un dataframe con las claves anteriores\n",
    "df_channels = pd.DataFrame(channels)"
   ]
  },
  {
   "cell_type": "code",
   "execution_count": 15,
   "id": "eae810d2-b442-4d97-bb32-4bb50cd5de0d",
   "metadata": {},
   "outputs": [
    {
     "data": {
      "text/html": [
       "<div>\n",
       "<style scoped>\n",
       "    .dataframe tbody tr th:only-of-type {\n",
       "        vertical-align: middle;\n",
       "    }\n",
       "\n",
       "    .dataframe tbody tr th {\n",
       "        vertical-align: top;\n",
       "    }\n",
       "\n",
       "    .dataframe thead th {\n",
       "        text-align: right;\n",
       "    }\n",
       "</style>\n",
       "<table border=\"1\" class=\"dataframe\">\n",
       "  <thead>\n",
       "    <tr style=\"text-align: right;\">\n",
       "      <th></th>\n",
       "      <th>Channel_name</th>\n",
       "      <th>Channel_id</th>\n",
       "    </tr>\n",
       "  </thead>\n",
       "  <tbody>\n",
       "    <tr>\n",
       "      <th>0</th>\n",
       "      <td>Ringa Tech</td>\n",
       "      <td>UCm9QZ70KuIVShztZ7HmE4NQ</td>\n",
       "    </tr>\n",
       "    <tr>\n",
       "      <th>1</th>\n",
       "      <td>Código Máquina</td>\n",
       "      <td>UCeyAuzke3347naesZQXi2zQ</td>\n",
       "    </tr>\n",
       "    <tr>\n",
       "      <th>2</th>\n",
       "      <td>PeladoNerd</td>\n",
       "      <td>UCrBzBOMcUVV8ryyAU_c6P5g</td>\n",
       "    </tr>\n",
       "    <tr>\n",
       "      <th>3</th>\n",
       "      <td>Codigofacilito</td>\n",
       "      <td>UCLXRGxAzeaLDGaOphqapzmg</td>\n",
       "    </tr>\n",
       "    <tr>\n",
       "      <th>4</th>\n",
       "      <td>midulive</td>\n",
       "      <td>UC3aj05GEEyzdOqYM5FLSFeg</td>\n",
       "    </tr>\n",
       "  </tbody>\n",
       "</table>\n",
       "</div>"
      ],
      "text/plain": [
       "     Channel_name                Channel_id\n",
       "0      Ringa Tech  UCm9QZ70KuIVShztZ7HmE4NQ\n",
       "1  Código Máquina  UCeyAuzke3347naesZQXi2zQ\n",
       "2      PeladoNerd  UCrBzBOMcUVV8ryyAU_c6P5g\n",
       "3  Codigofacilito  UCLXRGxAzeaLDGaOphqapzmg\n",
       "4        midulive  UC3aj05GEEyzdOqYM5FLSFeg"
      ]
     },
     "execution_count": 15,
     "metadata": {},
     "output_type": "execute_result"
    }
   ],
   "source": [
    "df_channels"
   ]
  },
  {
   "cell_type": "code",
   "execution_count": 13,
   "id": "46a8133e-e4e5-4164-bf04-5ce57f6c62bd",
   "metadata": {},
   "outputs": [],
   "source": [
    "#Guardando el dataframe en un archivo csv.\n",
    "df_channels = df_channels.to_csv('channels_to_analize.csv',index = False)"
   ]
  },
  {
   "cell_type": "code",
   "execution_count": 43,
   "id": "d32313ce-3142-4b3b-bc86-c97d5e185333",
   "metadata": {},
   "outputs": [],
   "source": [
    "#Generamos una funcion para todos los canales del dataframe\n",
    "def channel_stats(df,api_key):\n",
    "    \n",
    "    date = []\n",
    "    views = []\n",
    "    suscriber = []\n",
    "    video_count = []\n",
    "    channel_name = []\n",
    "    \n",
    "    tiempo = [1,2.5,3,2]\n",
    "    \n",
    "    \n",
    "    for i in tqdm(range(len(df)),colour = 'green'):\n",
    "        \n",
    "        stats_temp = get_stats(DEVELOPER_KEY,df_channels['Channel_id'][i])\n",
    "        \n",
    "        date.append(stats_temp['Created_at'])\n",
    "        views.append(stats_temp['Total_Views'])\n",
    "        suscriber.append(stats_temp['Suscribers'])\n",
    "        video_count.append(stats_temp['Video_count'])\n",
    "        channel_name.append(df['Channel_name'][i])\n",
    "        \n",
    "        time.sleep(random.choice(tiempo))\n",
    "    \n",
    "    data = {\n",
    "        \n",
    "        'Channel_name':channel_name,\n",
    "        'Suscribers':suscriber,\n",
    "        'Video_Count':video_count,\n",
    "        'Total_Views':views,\n",
    "        'created_at':date,\n",
    "        \n",
    "    }\n",
    "    \n",
    "    df_channels_final = pd.DataFrame(data)\n",
    "    \n",
    "    return df_channels_final     "
   ]
  },
  {
   "cell_type": "code",
   "execution_count": 44,
   "id": "b1bd66c6-2c2f-40c3-ba9f-9413f9fadfd5",
   "metadata": {},
   "outputs": [
    {
     "name": "stderr",
     "output_type": "stream",
     "text": [
      "100%|\u001b[32m██████████\u001b[0m| 5/5 [00:11<00:00,  2.25s/it]\n"
     ]
    },
    {
     "data": {
      "text/html": [
       "<div>\n",
       "<style scoped>\n",
       "    .dataframe tbody tr th:only-of-type {\n",
       "        vertical-align: middle;\n",
       "    }\n",
       "\n",
       "    .dataframe tbody tr th {\n",
       "        vertical-align: top;\n",
       "    }\n",
       "\n",
       "    .dataframe thead th {\n",
       "        text-align: right;\n",
       "    }\n",
       "</style>\n",
       "<table border=\"1\" class=\"dataframe\">\n",
       "  <thead>\n",
       "    <tr style=\"text-align: right;\">\n",
       "      <th></th>\n",
       "      <th>Channel_name</th>\n",
       "      <th>Suscribers</th>\n",
       "      <th>Video_Count</th>\n",
       "      <th>Total_Views</th>\n",
       "      <th>created_at</th>\n",
       "    </tr>\n",
       "  </thead>\n",
       "  <tbody>\n",
       "    <tr>\n",
       "      <th>0</th>\n",
       "      <td>Ringa Tech</td>\n",
       "      <td>186000</td>\n",
       "      <td>38</td>\n",
       "      <td>6060336</td>\n",
       "      <td>2023-01-24</td>\n",
       "    </tr>\n",
       "    <tr>\n",
       "      <th>1</th>\n",
       "      <td>Código Máquina</td>\n",
       "      <td>15400</td>\n",
       "      <td>102</td>\n",
       "      <td>281482</td>\n",
       "      <td>2023-01-24</td>\n",
       "    </tr>\n",
       "    <tr>\n",
       "      <th>2</th>\n",
       "      <td>PeladoNerd</td>\n",
       "      <td>135000</td>\n",
       "      <td>301</td>\n",
       "      <td>8243979</td>\n",
       "      <td>2023-01-24</td>\n",
       "    </tr>\n",
       "    <tr>\n",
       "      <th>3</th>\n",
       "      <td>Codigofacilito</td>\n",
       "      <td>706000</td>\n",
       "      <td>3106</td>\n",
       "      <td>99242622</td>\n",
       "      <td>2023-01-24</td>\n",
       "    </tr>\n",
       "    <tr>\n",
       "      <th>4</th>\n",
       "      <td>midulive</td>\n",
       "      <td>72500</td>\n",
       "      <td>213</td>\n",
       "      <td>4848000</td>\n",
       "      <td>2023-01-24</td>\n",
       "    </tr>\n",
       "  </tbody>\n",
       "</table>\n",
       "</div>"
      ],
      "text/plain": [
       "     Channel_name  Suscribers  Video_Count  Total_Views  created_at\n",
       "0      Ringa Tech      186000           38      6060336  2023-01-24\n",
       "1  Código Máquina       15400          102       281482  2023-01-24\n",
       "2      PeladoNerd      135000          301      8243979  2023-01-24\n",
       "3  Codigofacilito      706000         3106     99242622  2023-01-24\n",
       "4        midulive       72500          213      4848000  2023-01-24"
      ]
     },
     "execution_count": 44,
     "metadata": {},
     "output_type": "execute_result"
    }
   ],
   "source": [
    "#Verificamos la estadisticas de todos los canales\n",
    "channel_stats(df_channels,DEVELOPER_KEY)"
   ]
  }
 ],
 "metadata": {
  "kernelspec": {
   "display_name": "Python 3",
   "language": "python",
   "name": "python3"
  },
  "language_info": {
   "codemirror_mode": {
    "name": "ipython",
    "version": 3
   },
   "file_extension": ".py",
   "mimetype": "text/x-python",
   "name": "python",
   "nbconvert_exporter": "python",
   "pygments_lexer": "ipython3",
   "version": "3.11.0 (main, Oct 24 2022, 18:26:48) [MSC v.1933 64 bit (AMD64)]"
  },
  "vscode": {
   "interpreter": {
    "hash": "44d17221d46c7a46e8a7a9f0d7c8ef78bb19f39bfba305b8bd07282139afb75c"
   }
  }
 },
 "nbformat": 4,
 "nbformat_minor": 5
}
